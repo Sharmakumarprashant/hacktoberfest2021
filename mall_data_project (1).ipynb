{
  "nbformat": 4,
  "nbformat_minor": 0,
  "metadata": {
    "colab": {
      "name": "mall_data_project.ipynb",
      "provenance": [],
      "collapsed_sections": []
    },
    "kernelspec": {
      "name": "python3",
      "display_name": "Python 3"
    }
  },
  "cells": [
    {
      "cell_type": "code",
      "metadata": {
        "id": "-QRx5B6bYsfF"
      },
      "source": [
        "import numpy as np\n",
        "import pandas as pd\n",
        "import matplotlib.pyplot as plt\n",
        "import seaborn as sns\n",
        "\n",
        "sns.set()\n"
      ],
      "execution_count": 5,
      "outputs": []
    },
    {
      "cell_type": "code",
      "metadata": {
        "colab": {
          "base_uri": "https://localhost:8080/",
          "height": 195
        },
        "id": "wNvh26OODlv9",
        "outputId": "22dafb3c-0893-49e7-f1c8-04b604be83f1"
      },
      "source": [
        "data = pd.read_csv('/amount_sheet - amount_sheet.csv')\n",
        "data.head()\n"
      ],
      "execution_count": 6,
      "outputs": [
        {
          "output_type": "execute_result",
          "data": {
            "text/html": [
              "<div>\n",
              "<style scoped>\n",
              "    .dataframe tbody tr th:only-of-type {\n",
              "        vertical-align: middle;\n",
              "    }\n",
              "\n",
              "    .dataframe tbody tr th {\n",
              "        vertical-align: top;\n",
              "    }\n",
              "\n",
              "    .dataframe thead th {\n",
              "        text-align: right;\n",
              "    }\n",
              "</style>\n",
              "<table border=\"1\" class=\"dataframe\">\n",
              "  <thead>\n",
              "    <tr style=\"text-align: right;\">\n",
              "      <th></th>\n",
              "      <th>S.No</th>\n",
              "      <th>Mall Name</th>\n",
              "      <th>Venue</th>\n",
              "      <th>Amount</th>\n",
              "      <th>Discount</th>\n",
              "      <th>Start hour</th>\n",
              "      <th>End hour</th>\n",
              "    </tr>\n",
              "  </thead>\n",
              "  <tbody>\n",
              "    <tr>\n",
              "      <th>0</th>\n",
              "      <td>1</td>\n",
              "      <td>A</td>\n",
              "      <td>BHOPAL</td>\n",
              "      <td>10000.0</td>\n",
              "      <td>12.0</td>\n",
              "      <td>11:00</td>\n",
              "      <td>22:00</td>\n",
              "    </tr>\n",
              "    <tr>\n",
              "      <th>1</th>\n",
              "      <td>2</td>\n",
              "      <td>B</td>\n",
              "      <td>Lucknow</td>\n",
              "      <td>20000.0</td>\n",
              "      <td>13.0</td>\n",
              "      <td>10:30</td>\n",
              "      <td>23:00</td>\n",
              "    </tr>\n",
              "    <tr>\n",
              "      <th>2</th>\n",
              "      <td>3</td>\n",
              "      <td>C</td>\n",
              "      <td>Calcutta</td>\n",
              "      <td>50000.0</td>\n",
              "      <td>15.0</td>\n",
              "      <td>09:00</td>\n",
              "      <td>15:30</td>\n",
              "    </tr>\n",
              "    <tr>\n",
              "      <th>3</th>\n",
              "      <td>4</td>\n",
              "      <td>D</td>\n",
              "      <td>Hyderabad</td>\n",
              "      <td>60000.0</td>\n",
              "      <td>20.0</td>\n",
              "      <td>12:00</td>\n",
              "      <td>17:00</td>\n",
              "    </tr>\n",
              "    <tr>\n",
              "      <th>4</th>\n",
              "      <td>5</td>\n",
              "      <td>E</td>\n",
              "      <td>Patna</td>\n",
              "      <td>19993.0</td>\n",
              "      <td>12.5</td>\n",
              "      <td>06:00</td>\n",
              "      <td>23:00</td>\n",
              "    </tr>\n",
              "  </tbody>\n",
              "</table>\n",
              "</div>"
            ],
            "text/plain": [
              "   S.No Mall Name      Venue   Amount  Discount Start hour End hour\n",
              "0     1         A     BHOPAL  10000.0      12.0      11:00    22:00\n",
              "1     2         B    Lucknow  20000.0      13.0      10:30    23:00\n",
              "2     3         C   Calcutta  50000.0      15.0      09:00    15:30\n",
              "3     4         D  Hyderabad  60000.0      20.0      12:00    17:00\n",
              "4     5         E      Patna  19993.0      12.5      06:00    23:00"
            ]
          },
          "metadata": {
            "tags": []
          },
          "execution_count": 6
        }
      ]
    },
    {
      "cell_type": "code",
      "metadata": {
        "id": "aZNZeF4ZEIYS"
      },
      "source": [
        "data['Amount_after_discount'] = data['Amount'] - data['Discount']/100 * data['Amount']"
      ],
      "execution_count": 7,
      "outputs": []
    },
    {
      "cell_type": "code",
      "metadata": {
        "colab": {
          "base_uri": "https://localhost:8080/",
          "height": 195
        },
        "id": "F4_BR8UkE84i",
        "outputId": "64c439d2-b673-4512-f848-2ff76fac2ad7"
      },
      "source": [
        "data.head()"
      ],
      "execution_count": 79,
      "outputs": [
        {
          "output_type": "execute_result",
          "data": {
            "text/html": [
              "<div>\n",
              "<style scoped>\n",
              "    .dataframe tbody tr th:only-of-type {\n",
              "        vertical-align: middle;\n",
              "    }\n",
              "\n",
              "    .dataframe tbody tr th {\n",
              "        vertical-align: top;\n",
              "    }\n",
              "\n",
              "    .dataframe thead th {\n",
              "        text-align: right;\n",
              "    }\n",
              "</style>\n",
              "<table border=\"1\" class=\"dataframe\">\n",
              "  <thead>\n",
              "    <tr style=\"text-align: right;\">\n",
              "      <th></th>\n",
              "      <th>S.No</th>\n",
              "      <th>Mall Name</th>\n",
              "      <th>Venue</th>\n",
              "      <th>Amount</th>\n",
              "      <th>Discount</th>\n",
              "      <th>Start hour</th>\n",
              "      <th>End hour</th>\n",
              "      <th>Amount_after_discount</th>\n",
              "    </tr>\n",
              "  </thead>\n",
              "  <tbody>\n",
              "    <tr>\n",
              "      <th>0</th>\n",
              "      <td>1</td>\n",
              "      <td>A</td>\n",
              "      <td>BHOPAL</td>\n",
              "      <td>10000.0</td>\n",
              "      <td>12.0</td>\n",
              "      <td>11:00</td>\n",
              "      <td>22:00</td>\n",
              "      <td>8800.000</td>\n",
              "    </tr>\n",
              "    <tr>\n",
              "      <th>1</th>\n",
              "      <td>2</td>\n",
              "      <td>B</td>\n",
              "      <td>Lucknow</td>\n",
              "      <td>20000.0</td>\n",
              "      <td>13.0</td>\n",
              "      <td>10:30</td>\n",
              "      <td>23:00</td>\n",
              "      <td>17400.000</td>\n",
              "    </tr>\n",
              "    <tr>\n",
              "      <th>2</th>\n",
              "      <td>3</td>\n",
              "      <td>C</td>\n",
              "      <td>Calcutta</td>\n",
              "      <td>50000.0</td>\n",
              "      <td>15.0</td>\n",
              "      <td>09:00</td>\n",
              "      <td>15:30</td>\n",
              "      <td>42500.000</td>\n",
              "    </tr>\n",
              "    <tr>\n",
              "      <th>3</th>\n",
              "      <td>4</td>\n",
              "      <td>D</td>\n",
              "      <td>Hyderabad</td>\n",
              "      <td>60000.0</td>\n",
              "      <td>20.0</td>\n",
              "      <td>12:00</td>\n",
              "      <td>17:00</td>\n",
              "      <td>48000.000</td>\n",
              "    </tr>\n",
              "    <tr>\n",
              "      <th>4</th>\n",
              "      <td>5</td>\n",
              "      <td>E</td>\n",
              "      <td>Patna</td>\n",
              "      <td>19993.0</td>\n",
              "      <td>12.5</td>\n",
              "      <td>06:00</td>\n",
              "      <td>23:00</td>\n",
              "      <td>17493.875</td>\n",
              "    </tr>\n",
              "  </tbody>\n",
              "</table>\n",
              "</div>"
            ],
            "text/plain": [
              "   S.No Mall Name      Venue  ...  Start hour  End hour Amount_after_discount\n",
              "0     1         A     BHOPAL  ...       11:00     22:00              8800.000\n",
              "1     2         B    Lucknow  ...       10:30     23:00             17400.000\n",
              "2     3         C   Calcutta  ...       09:00     15:30             42500.000\n",
              "3     4         D  Hyderabad  ...       12:00     17:00             48000.000\n",
              "4     5         E      Patna  ...       06:00     23:00             17493.875\n",
              "\n",
              "[5 rows x 8 columns]"
            ]
          },
          "metadata": {
            "tags": []
          },
          "execution_count": 79
        }
      ]
    },
    {
      "cell_type": "code",
      "metadata": {
        "id": "R366m1_EFAFL"
      },
      "source": [
        "data1 = data.drop([\"S.No\",\"Mall Name\",\"Venue\",\"Discount\"], axis = 1)"
      ],
      "execution_count": 81,
      "outputs": []
    },
    {
      "cell_type": "code",
      "metadata": {
        "colab": {
          "base_uri": "https://localhost:8080/",
          "height": 195
        },
        "id": "GYEzBm7DFd3y",
        "outputId": "0f462e18-397a-402b-f6af-310874a24450"
      },
      "source": [
        "data1.head()"
      ],
      "execution_count": 82,
      "outputs": [
        {
          "output_type": "execute_result",
          "data": {
            "text/html": [
              "<div>\n",
              "<style scoped>\n",
              "    .dataframe tbody tr th:only-of-type {\n",
              "        vertical-align: middle;\n",
              "    }\n",
              "\n",
              "    .dataframe tbody tr th {\n",
              "        vertical-align: top;\n",
              "    }\n",
              "\n",
              "    .dataframe thead th {\n",
              "        text-align: right;\n",
              "    }\n",
              "</style>\n",
              "<table border=\"1\" class=\"dataframe\">\n",
              "  <thead>\n",
              "    <tr style=\"text-align: right;\">\n",
              "      <th></th>\n",
              "      <th>Amount</th>\n",
              "      <th>Start hour</th>\n",
              "      <th>End hour</th>\n",
              "      <th>Amount_after_discount</th>\n",
              "    </tr>\n",
              "  </thead>\n",
              "  <tbody>\n",
              "    <tr>\n",
              "      <th>0</th>\n",
              "      <td>10000.0</td>\n",
              "      <td>11:00</td>\n",
              "      <td>22:00</td>\n",
              "      <td>8800.000</td>\n",
              "    </tr>\n",
              "    <tr>\n",
              "      <th>1</th>\n",
              "      <td>20000.0</td>\n",
              "      <td>10:30</td>\n",
              "      <td>23:00</td>\n",
              "      <td>17400.000</td>\n",
              "    </tr>\n",
              "    <tr>\n",
              "      <th>2</th>\n",
              "      <td>50000.0</td>\n",
              "      <td>09:00</td>\n",
              "      <td>15:30</td>\n",
              "      <td>42500.000</td>\n",
              "    </tr>\n",
              "    <tr>\n",
              "      <th>3</th>\n",
              "      <td>60000.0</td>\n",
              "      <td>12:00</td>\n",
              "      <td>17:00</td>\n",
              "      <td>48000.000</td>\n",
              "    </tr>\n",
              "    <tr>\n",
              "      <th>4</th>\n",
              "      <td>19993.0</td>\n",
              "      <td>06:00</td>\n",
              "      <td>23:00</td>\n",
              "      <td>17493.875</td>\n",
              "    </tr>\n",
              "  </tbody>\n",
              "</table>\n",
              "</div>"
            ],
            "text/plain": [
              "    Amount Start hour End hour  Amount_after_discount\n",
              "0  10000.0      11:00    22:00               8800.000\n",
              "1  20000.0      10:30    23:00              17400.000\n",
              "2  50000.0      09:00    15:30              42500.000\n",
              "3  60000.0      12:00    17:00              48000.000\n",
              "4  19993.0      06:00    23:00              17493.875"
            ]
          },
          "metadata": {
            "tags": []
          },
          "execution_count": 82
        }
      ]
    },
    {
      "cell_type": "code",
      "metadata": {
        "id": "Kxb6d3npFgIN"
      },
      "source": [
        "# X = pd.DataFrame(data=data1, columns=['Amount','Discount'])\n",
        "# y = pd.DataFrame(data=data1, columns=['Amount_after_discount'])"
      ],
      "execution_count": 11,
      "outputs": []
    },
    {
      "cell_type": "code",
      "metadata": {
        "colab": {
          "base_uri": "https://localhost:8080/"
        },
        "id": "tr7sa1rbHhzU",
        "outputId": "40a5405f-7817-4cde-a15c-a48853519f2b"
      },
      "source": [
        "data1.isnull().sum()\n"
      ],
      "execution_count": 88,
      "outputs": [
        {
          "output_type": "execute_result",
          "data": {
            "text/plain": [
              "Amount                   0\n",
              "Start hour               0\n",
              "End hour                 0\n",
              "Amount_after_discount    0\n",
              "dtype: int64"
            ]
          },
          "metadata": {
            "tags": []
          },
          "execution_count": 88
        }
      ]
    },
    {
      "cell_type": "code",
      "metadata": {
        "colab": {
          "base_uri": "https://localhost:8080/",
          "height": 284
        },
        "id": "Uz7y9q5YHuaF",
        "outputId": "40d88de9-1d9f-447e-d709-84c544c37887"
      },
      "source": [
        "data1.describe()"
      ],
      "execution_count": 93,
      "outputs": [
        {
          "output_type": "execute_result",
          "data": {
            "text/html": [
              "<div>\n",
              "<style scoped>\n",
              "    .dataframe tbody tr th:only-of-type {\n",
              "        vertical-align: middle;\n",
              "    }\n",
              "\n",
              "    .dataframe tbody tr th {\n",
              "        vertical-align: top;\n",
              "    }\n",
              "\n",
              "    .dataframe thead th {\n",
              "        text-align: right;\n",
              "    }\n",
              "</style>\n",
              "<table border=\"1\" class=\"dataframe\">\n",
              "  <thead>\n",
              "    <tr style=\"text-align: right;\">\n",
              "      <th></th>\n",
              "      <th>Amount</th>\n",
              "      <th>Amount_after_discount</th>\n",
              "    </tr>\n",
              "  </thead>\n",
              "  <tbody>\n",
              "    <tr>\n",
              "      <th>count</th>\n",
              "      <td>300.000000</td>\n",
              "      <td>300.000000</td>\n",
              "    </tr>\n",
              "    <tr>\n",
              "      <th>mean</th>\n",
              "      <td>39601.526000</td>\n",
              "      <td>32538.079263</td>\n",
              "    </tr>\n",
              "    <tr>\n",
              "      <th>std</th>\n",
              "      <td>21964.270405</td>\n",
              "      <td>18810.983412</td>\n",
              "    </tr>\n",
              "    <tr>\n",
              "      <th>min</th>\n",
              "      <td>1456.000000</td>\n",
              "      <td>1281.280000</td>\n",
              "    </tr>\n",
              "    <tr>\n",
              "      <th>25%</th>\n",
              "      <td>20000.000000</td>\n",
              "      <td>17598.460000</td>\n",
              "    </tr>\n",
              "    <tr>\n",
              "      <th>50%</th>\n",
              "      <td>35045.600000</td>\n",
              "      <td>29419.152000</td>\n",
              "    </tr>\n",
              "    <tr>\n",
              "      <th>75%</th>\n",
              "      <td>50000.000000</td>\n",
              "      <td>42734.560000</td>\n",
              "    </tr>\n",
              "    <tr>\n",
              "      <th>max</th>\n",
              "      <td>100000.000000</td>\n",
              "      <td>87500.000000</td>\n",
              "    </tr>\n",
              "  </tbody>\n",
              "</table>\n",
              "</div>"
            ],
            "text/plain": [
              "              Amount  Amount_after_discount\n",
              "count     300.000000             300.000000\n",
              "mean    39601.526000           32538.079263\n",
              "std     21964.270405           18810.983412\n",
              "min      1456.000000            1281.280000\n",
              "25%     20000.000000           17598.460000\n",
              "50%     35045.600000           29419.152000\n",
              "75%     50000.000000           42734.560000\n",
              "max    100000.000000           87500.000000"
            ]
          },
          "metadata": {
            "tags": []
          },
          "execution_count": 93
        }
      ]
    },
    {
      "cell_type": "code",
      "metadata": {
        "colab": {
          "base_uri": "https://localhost:8080/"
        },
        "id": "YdV94zZUH27b",
        "outputId": "280f5907-d462-4db3-959f-b40349bf3a1b"
      },
      "source": [
        "data1.info()"
      ],
      "execution_count": 94,
      "outputs": [
        {
          "output_type": "stream",
          "text": [
            "<class 'pandas.core.frame.DataFrame'>\n",
            "RangeIndex: 300 entries, 0 to 299\n",
            "Data columns (total 4 columns):\n",
            " #   Column                 Non-Null Count  Dtype  \n",
            "---  ------                 --------------  -----  \n",
            " 0   Amount                 300 non-null    float64\n",
            " 1   Start hour             300 non-null    object \n",
            " 2   End hour               300 non-null    object \n",
            " 3   Amount_after_discount  300 non-null    float64\n",
            "dtypes: float64(2), object(2)\n",
            "memory usage: 9.5+ KB\n"
          ],
          "name": "stdout"
        }
      ]
    },
    {
      "cell_type": "code",
      "metadata": {
        "colab": {
          "base_uri": "https://localhost:8080/"
        },
        "id": "LAg9PfplIMTM",
        "outputId": "1e18f378-f2c0-429d-d095-b7fa70b2ed9f"
      },
      "source": [
        "print(\"Total null Amount Values is\", data1['Amount'].isnull().values.any())\n",
        "print(\"Total null Discounted Amount Values is\", data['Amount_after_discount'].isnull().values.any())"
      ],
      "execution_count": 95,
      "outputs": [
        {
          "output_type": "stream",
          "text": [
            "Total null Amount Values is False\n",
            "Total null Discounted Amount Values is False\n"
          ],
          "name": "stdout"
        }
      ]
    },
    {
      "cell_type": "code",
      "metadata": {
        "id": "J2KlkkGaMdeh"
      },
      "source": [
        "data2 = data1[['Start hour','End hour']]"
      ],
      "execution_count": 98,
      "outputs": []
    },
    {
      "cell_type": "code",
      "metadata": {
        "id": "c3CkYMolwGiE",
        "colab": {
          "base_uri": "https://localhost:8080/",
          "height": 195
        },
        "outputId": "7ac6d475-e8ff-4622-dbcd-36ffea2f0878"
      },
      "source": [
        "# for s in data2['Start hour'] :\n",
        "#          s = str(s) \n",
        "#          s = s.split(\":\", 1) \n",
        "#          s= np.array(s)\n",
        "#          a= (int)(s[0])\n",
        "#          b= (int)(s[1])\n",
        "#          #print(type(a))\n",
        "#          s = a * 60  + b; \n",
        "          \n",
        "#         #  print(\"Minutes = \",s )\n",
        "data2[\"A_hour\"] = pd.to_datetime(data2[\"Start hour\"]).dt.hour\n",
        "data2[\"A_min\"] = pd.to_datetime(data2[\"Start hour\"]).dt.minute\n",
        "\n",
        "data2[\"B_hour\"] = pd.to_datetime(data2[\"End hour\"]).dt.hour\n",
        "data2[\"B_min\"] = pd.to_datetime(data2[\"End hour\"]).dt.minute\n",
        "data2.head()"
      ],
      "execution_count": 118,
      "outputs": [
        {
          "output_type": "execute_result",
          "data": {
            "text/html": [
              "<div>\n",
              "<style scoped>\n",
              "    .dataframe tbody tr th:only-of-type {\n",
              "        vertical-align: middle;\n",
              "    }\n",
              "\n",
              "    .dataframe tbody tr th {\n",
              "        vertical-align: top;\n",
              "    }\n",
              "\n",
              "    .dataframe thead th {\n",
              "        text-align: right;\n",
              "    }\n",
              "</style>\n",
              "<table border=\"1\" class=\"dataframe\">\n",
              "  <thead>\n",
              "    <tr style=\"text-align: right;\">\n",
              "      <th></th>\n",
              "      <th>Start hour</th>\n",
              "      <th>End hour</th>\n",
              "      <th>A_hour</th>\n",
              "      <th>A_min</th>\n",
              "      <th>B_hour</th>\n",
              "      <th>B_min</th>\n",
              "    </tr>\n",
              "  </thead>\n",
              "  <tbody>\n",
              "    <tr>\n",
              "      <th>0</th>\n",
              "      <td>11:00</td>\n",
              "      <td>22:00</td>\n",
              "      <td>11</td>\n",
              "      <td>0</td>\n",
              "      <td>22</td>\n",
              "      <td>0</td>\n",
              "    </tr>\n",
              "    <tr>\n",
              "      <th>1</th>\n",
              "      <td>10:30</td>\n",
              "      <td>23:00</td>\n",
              "      <td>10</td>\n",
              "      <td>30</td>\n",
              "      <td>23</td>\n",
              "      <td>0</td>\n",
              "    </tr>\n",
              "    <tr>\n",
              "      <th>2</th>\n",
              "      <td>09:00</td>\n",
              "      <td>15:30</td>\n",
              "      <td>9</td>\n",
              "      <td>0</td>\n",
              "      <td>15</td>\n",
              "      <td>30</td>\n",
              "    </tr>\n",
              "    <tr>\n",
              "      <th>3</th>\n",
              "      <td>12:00</td>\n",
              "      <td>17:00</td>\n",
              "      <td>12</td>\n",
              "      <td>0</td>\n",
              "      <td>17</td>\n",
              "      <td>0</td>\n",
              "    </tr>\n",
              "    <tr>\n",
              "      <th>4</th>\n",
              "      <td>06:00</td>\n",
              "      <td>23:00</td>\n",
              "      <td>6</td>\n",
              "      <td>0</td>\n",
              "      <td>23</td>\n",
              "      <td>0</td>\n",
              "    </tr>\n",
              "  </tbody>\n",
              "</table>\n",
              "</div>"
            ],
            "text/plain": [
              "  Start hour End hour  A_hour  A_min  B_hour  B_min\n",
              "0      11:00    22:00      11      0      22      0\n",
              "1      10:30    23:00      10     30      23      0\n",
              "2      09:00    15:30       9      0      15     30\n",
              "3      12:00    17:00      12      0      17      0\n",
              "4      06:00    23:00       6      0      23      0"
            ]
          },
          "metadata": {
            "tags": []
          },
          "execution_count": 118
        }
      ]
    },
    {
      "cell_type": "code",
      "metadata": {
        "colab": {
          "base_uri": "https://localhost:8080/"
        },
        "id": "GrWEyv2t-N2B",
        "outputId": "95a6633c-8168-4c1d-d39d-307686f5cdd0"
      },
      "source": [
        "# for i in data2['End hour'] :\n",
        "#          i = str(i) \n",
        "#          i = i.split(\":\") \n",
        "#          a= (int)(i[0])\n",
        "#          b= (int)(i[1])\n",
        "#          i = a * 60  + b; \n",
        "          \n",
        "#          #print(\"Minutes = \",i)\n",
        "data2.info()"
      ],
      "execution_count": 119,
      "outputs": [
        {
          "output_type": "stream",
          "text": [
            "<class 'pandas.core.frame.DataFrame'>\n",
            "RangeIndex: 300 entries, 0 to 299\n",
            "Data columns (total 6 columns):\n",
            " #   Column      Non-Null Count  Dtype \n",
            "---  ------      --------------  ----- \n",
            " 0   Start hour  300 non-null    object\n",
            " 1   End hour    300 non-null    object\n",
            " 2   A_hour      300 non-null    int64 \n",
            " 3   A_min       300 non-null    int64 \n",
            " 4   B_hour      300 non-null    int64 \n",
            " 5   B_min       300 non-null    int64 \n",
            "dtypes: int64(4), object(2)\n",
            "memory usage: 14.2+ KB\n"
          ],
          "name": "stdout"
        }
      ]
    },
    {
      "cell_type": "code",
      "metadata": {
        "colab": {
          "base_uri": "https://localhost:8080/",
          "height": 195
        },
        "id": "_FbHYdlZoqxl",
        "outputId": "66d3dcc1-1aeb-4d8b-838f-4f3b572cafd0"
      },
      "source": [
        "data1['starting_time'] = data2['A_hour'] *60 + data2['A_min'] \n",
        "data1['ending_time'] = data2['B_hour'] *60 + data2['B_min'] \n",
        "data1.head()"
      ],
      "execution_count": 120,
      "outputs": [
        {
          "output_type": "execute_result",
          "data": {
            "text/html": [
              "<div>\n",
              "<style scoped>\n",
              "    .dataframe tbody tr th:only-of-type {\n",
              "        vertical-align: middle;\n",
              "    }\n",
              "\n",
              "    .dataframe tbody tr th {\n",
              "        vertical-align: top;\n",
              "    }\n",
              "\n",
              "    .dataframe thead th {\n",
              "        text-align: right;\n",
              "    }\n",
              "</style>\n",
              "<table border=\"1\" class=\"dataframe\">\n",
              "  <thead>\n",
              "    <tr style=\"text-align: right;\">\n",
              "      <th></th>\n",
              "      <th>Amount</th>\n",
              "      <th>Start hour</th>\n",
              "      <th>End hour</th>\n",
              "      <th>Amount_after_discount</th>\n",
              "      <th>starting_time</th>\n",
              "      <th>ending_time</th>\n",
              "    </tr>\n",
              "  </thead>\n",
              "  <tbody>\n",
              "    <tr>\n",
              "      <th>0</th>\n",
              "      <td>10000.0</td>\n",
              "      <td>11:00</td>\n",
              "      <td>22:00</td>\n",
              "      <td>8800.000</td>\n",
              "      <td>660</td>\n",
              "      <td>1320</td>\n",
              "    </tr>\n",
              "    <tr>\n",
              "      <th>1</th>\n",
              "      <td>20000.0</td>\n",
              "      <td>10:30</td>\n",
              "      <td>23:00</td>\n",
              "      <td>17400.000</td>\n",
              "      <td>630</td>\n",
              "      <td>1380</td>\n",
              "    </tr>\n",
              "    <tr>\n",
              "      <th>2</th>\n",
              "      <td>50000.0</td>\n",
              "      <td>09:00</td>\n",
              "      <td>15:30</td>\n",
              "      <td>42500.000</td>\n",
              "      <td>540</td>\n",
              "      <td>930</td>\n",
              "    </tr>\n",
              "    <tr>\n",
              "      <th>3</th>\n",
              "      <td>60000.0</td>\n",
              "      <td>12:00</td>\n",
              "      <td>17:00</td>\n",
              "      <td>48000.000</td>\n",
              "      <td>720</td>\n",
              "      <td>1020</td>\n",
              "    </tr>\n",
              "    <tr>\n",
              "      <th>4</th>\n",
              "      <td>19993.0</td>\n",
              "      <td>06:00</td>\n",
              "      <td>23:00</td>\n",
              "      <td>17493.875</td>\n",
              "      <td>360</td>\n",
              "      <td>1380</td>\n",
              "    </tr>\n",
              "  </tbody>\n",
              "</table>\n",
              "</div>"
            ],
            "text/plain": [
              "    Amount Start hour  ... starting_time  ending_time\n",
              "0  10000.0      11:00  ...           660         1320\n",
              "1  20000.0      10:30  ...           630         1380\n",
              "2  50000.0      09:00  ...           540          930\n",
              "3  60000.0      12:00  ...           720         1020\n",
              "4  19993.0      06:00  ...           360         1380\n",
              "\n",
              "[5 rows x 6 columns]"
            ]
          },
          "metadata": {
            "tags": []
          },
          "execution_count": 120
        }
      ]
    },
    {
      "cell_type": "code",
      "metadata": {
        "id": "_WlhR5OzIeWo"
      },
      "source": [
        "final_dataset = data1.drop([\"Start hour\",\"End hour\"], axis = 1)"
      ],
      "execution_count": 121,
      "outputs": []
    },
    {
      "cell_type": "code",
      "metadata": {
        "colab": {
          "base_uri": "https://localhost:8080/",
          "height": 195
        },
        "id": "gTrPpY4Xjf01",
        "outputId": "9e44e03c-11f6-446e-b223-ba4296bad5ed"
      },
      "source": [
        "final_dataset.head()"
      ],
      "execution_count": 124,
      "outputs": [
        {
          "output_type": "execute_result",
          "data": {
            "text/html": [
              "<div>\n",
              "<style scoped>\n",
              "    .dataframe tbody tr th:only-of-type {\n",
              "        vertical-align: middle;\n",
              "    }\n",
              "\n",
              "    .dataframe tbody tr th {\n",
              "        vertical-align: top;\n",
              "    }\n",
              "\n",
              "    .dataframe thead th {\n",
              "        text-align: right;\n",
              "    }\n",
              "</style>\n",
              "<table border=\"1\" class=\"dataframe\">\n",
              "  <thead>\n",
              "    <tr style=\"text-align: right;\">\n",
              "      <th></th>\n",
              "      <th>Amount</th>\n",
              "      <th>Amount_after_discount</th>\n",
              "      <th>starting_time</th>\n",
              "      <th>ending_time</th>\n",
              "    </tr>\n",
              "  </thead>\n",
              "  <tbody>\n",
              "    <tr>\n",
              "      <th>0</th>\n",
              "      <td>10000.0</td>\n",
              "      <td>8800.000</td>\n",
              "      <td>660</td>\n",
              "      <td>1320</td>\n",
              "    </tr>\n",
              "    <tr>\n",
              "      <th>1</th>\n",
              "      <td>20000.0</td>\n",
              "      <td>17400.000</td>\n",
              "      <td>630</td>\n",
              "      <td>1380</td>\n",
              "    </tr>\n",
              "    <tr>\n",
              "      <th>2</th>\n",
              "      <td>50000.0</td>\n",
              "      <td>42500.000</td>\n",
              "      <td>540</td>\n",
              "      <td>930</td>\n",
              "    </tr>\n",
              "    <tr>\n",
              "      <th>3</th>\n",
              "      <td>60000.0</td>\n",
              "      <td>48000.000</td>\n",
              "      <td>720</td>\n",
              "      <td>1020</td>\n",
              "    </tr>\n",
              "    <tr>\n",
              "      <th>4</th>\n",
              "      <td>19993.0</td>\n",
              "      <td>17493.875</td>\n",
              "      <td>360</td>\n",
              "      <td>1380</td>\n",
              "    </tr>\n",
              "  </tbody>\n",
              "</table>\n",
              "</div>"
            ],
            "text/plain": [
              "    Amount  Amount_after_discount  starting_time  ending_time\n",
              "0  10000.0               8800.000            660         1320\n",
              "1  20000.0              17400.000            630         1380\n",
              "2  50000.0              42500.000            540          930\n",
              "3  60000.0              48000.000            720         1020\n",
              "4  19993.0              17493.875            360         1380"
            ]
          },
          "metadata": {
            "tags": []
          },
          "execution_count": 124
        }
      ]
    },
    {
      "cell_type": "code",
      "metadata": {
        "colab": {
          "base_uri": "https://localhost:8080/"
        },
        "id": "wN8kiSD44lXK",
        "outputId": "3c7bab52-f6b4-46b1-b03d-53bc63b34df6"
      },
      "source": [
        "final_dataset.shape"
      ],
      "execution_count": 125,
      "outputs": [
        {
          "output_type": "execute_result",
          "data": {
            "text/plain": [
              "(300, 4)"
            ]
          },
          "metadata": {
            "tags": []
          },
          "execution_count": 125
        }
      ]
    },
    {
      "cell_type": "code",
      "metadata": {
        "colab": {
          "base_uri": "https://localhost:8080/"
        },
        "id": "uO5hz94v4rgo",
        "outputId": "34b1c863-c53c-4a72-de1f-92d6e106c29f"
      },
      "source": [
        "final_dataset.columns"
      ],
      "execution_count": 126,
      "outputs": [
        {
          "output_type": "execute_result",
          "data": {
            "text/plain": [
              "Index(['Amount', 'Amount_after_discount', 'starting_time', 'ending_time'], dtype='object')"
            ]
          },
          "metadata": {
            "tags": []
          },
          "execution_count": 126
        }
      ]
    },
    {
      "cell_type": "code",
      "metadata": {
        "colab": {
          "base_uri": "https://localhost:8080/"
        },
        "id": "p1VmLdSC44i6",
        "outputId": "6cacad2c-e018-4891-c679-222a098bb93c"
      },
      "source": [
        "final_dataset.info()"
      ],
      "execution_count": 128,
      "outputs": [
        {
          "output_type": "stream",
          "text": [
            "<class 'pandas.core.frame.DataFrame'>\n",
            "RangeIndex: 300 entries, 0 to 299\n",
            "Data columns (total 4 columns):\n",
            " #   Column                 Non-Null Count  Dtype  \n",
            "---  ------                 --------------  -----  \n",
            " 0   Amount                 300 non-null    float64\n",
            " 1   Amount_after_discount  300 non-null    float64\n",
            " 2   starting_time          300 non-null    int64  \n",
            " 3   ending_time            300 non-null    int64  \n",
            "dtypes: float64(2), int64(2)\n",
            "memory usage: 9.5 KB\n"
          ],
          "name": "stdout"
        }
      ]
    },
    {
      "cell_type": "code",
      "metadata": {
        "id": "2l3G2RuA9Kj7"
      },
      "source": [
        " X_train = pd.DataFrame(data=final_dataset, columns=['Amount','starting_time','ending_time'])\n",
        " y_train = pd.DataFrame(data=final_dataset, columns=['Amount_after_discount'])"
      ],
      "execution_count": 143,
      "outputs": []
    },
    {
      "cell_type": "code",
      "metadata": {
        "colab": {
          "base_uri": "https://localhost:8080/",
          "height": 402
        },
        "id": "77ZkEC7r9ljt",
        "outputId": "22961139-1463-4451-f1b9-0add4076da45"
      },
      "source": [
        "X_train"
      ],
      "execution_count": 144,
      "outputs": [
        {
          "output_type": "execute_result",
          "data": {
            "text/html": [
              "<div>\n",
              "<style scoped>\n",
              "    .dataframe tbody tr th:only-of-type {\n",
              "        vertical-align: middle;\n",
              "    }\n",
              "\n",
              "    .dataframe tbody tr th {\n",
              "        vertical-align: top;\n",
              "    }\n",
              "\n",
              "    .dataframe thead th {\n",
              "        text-align: right;\n",
              "    }\n",
              "</style>\n",
              "<table border=\"1\" class=\"dataframe\">\n",
              "  <thead>\n",
              "    <tr style=\"text-align: right;\">\n",
              "      <th></th>\n",
              "      <th>Amount</th>\n",
              "      <th>starting_time</th>\n",
              "      <th>ending_time</th>\n",
              "    </tr>\n",
              "  </thead>\n",
              "  <tbody>\n",
              "    <tr>\n",
              "      <th>0</th>\n",
              "      <td>10000.0</td>\n",
              "      <td>660</td>\n",
              "      <td>1320</td>\n",
              "    </tr>\n",
              "    <tr>\n",
              "      <th>1</th>\n",
              "      <td>20000.0</td>\n",
              "      <td>630</td>\n",
              "      <td>1380</td>\n",
              "    </tr>\n",
              "    <tr>\n",
              "      <th>2</th>\n",
              "      <td>50000.0</td>\n",
              "      <td>540</td>\n",
              "      <td>930</td>\n",
              "    </tr>\n",
              "    <tr>\n",
              "      <th>3</th>\n",
              "      <td>60000.0</td>\n",
              "      <td>720</td>\n",
              "      <td>1020</td>\n",
              "    </tr>\n",
              "    <tr>\n",
              "      <th>4</th>\n",
              "      <td>19993.0</td>\n",
              "      <td>360</td>\n",
              "      <td>1380</td>\n",
              "    </tr>\n",
              "    <tr>\n",
              "      <th>...</th>\n",
              "      <td>...</td>\n",
              "      <td>...</td>\n",
              "      <td>...</td>\n",
              "    </tr>\n",
              "    <tr>\n",
              "      <th>295</th>\n",
              "      <td>48562.0</td>\n",
              "      <td>570</td>\n",
              "      <td>930</td>\n",
              "    </tr>\n",
              "    <tr>\n",
              "      <th>296</th>\n",
              "      <td>87391.0</td>\n",
              "      <td>660</td>\n",
              "      <td>1065</td>\n",
              "    </tr>\n",
              "    <tr>\n",
              "      <th>297</th>\n",
              "      <td>17900.0</td>\n",
              "      <td>120</td>\n",
              "      <td>1380</td>\n",
              "    </tr>\n",
              "    <tr>\n",
              "      <th>298</th>\n",
              "      <td>45000.0</td>\n",
              "      <td>60</td>\n",
              "      <td>1380</td>\n",
              "    </tr>\n",
              "    <tr>\n",
              "      <th>299</th>\n",
              "      <td>12000.0</td>\n",
              "      <td>600</td>\n",
              "      <td>1140</td>\n",
              "    </tr>\n",
              "  </tbody>\n",
              "</table>\n",
              "<p>300 rows × 3 columns</p>\n",
              "</div>"
            ],
            "text/plain": [
              "      Amount  starting_time  ending_time\n",
              "0    10000.0            660         1320\n",
              "1    20000.0            630         1380\n",
              "2    50000.0            540          930\n",
              "3    60000.0            720         1020\n",
              "4    19993.0            360         1380\n",
              "..       ...            ...          ...\n",
              "295  48562.0            570          930\n",
              "296  87391.0            660         1065\n",
              "297  17900.0            120         1380\n",
              "298  45000.0             60         1380\n",
              "299  12000.0            600         1140\n",
              "\n",
              "[300 rows x 3 columns]"
            ]
          },
          "metadata": {
            "tags": []
          },
          "execution_count": 144
        }
      ]
    },
    {
      "cell_type": "code",
      "metadata": {
        "colab": {
          "base_uri": "https://localhost:8080/",
          "height": 402
        },
        "id": "VpU5R2dV9z3o",
        "outputId": "5ef75eb1-a2cd-4d8c-d6e7-3d6f2c5a4f73"
      },
      "source": [
        "y_train"
      ],
      "execution_count": 145,
      "outputs": [
        {
          "output_type": "execute_result",
          "data": {
            "text/html": [
              "<div>\n",
              "<style scoped>\n",
              "    .dataframe tbody tr th:only-of-type {\n",
              "        vertical-align: middle;\n",
              "    }\n",
              "\n",
              "    .dataframe tbody tr th {\n",
              "        vertical-align: top;\n",
              "    }\n",
              "\n",
              "    .dataframe thead th {\n",
              "        text-align: right;\n",
              "    }\n",
              "</style>\n",
              "<table border=\"1\" class=\"dataframe\">\n",
              "  <thead>\n",
              "    <tr style=\"text-align: right;\">\n",
              "      <th></th>\n",
              "      <th>Amount_after_discount</th>\n",
              "    </tr>\n",
              "  </thead>\n",
              "  <tbody>\n",
              "    <tr>\n",
              "      <th>0</th>\n",
              "      <td>8800.000</td>\n",
              "    </tr>\n",
              "    <tr>\n",
              "      <th>1</th>\n",
              "      <td>17400.000</td>\n",
              "    </tr>\n",
              "    <tr>\n",
              "      <th>2</th>\n",
              "      <td>42500.000</td>\n",
              "    </tr>\n",
              "    <tr>\n",
              "      <th>3</th>\n",
              "      <td>48000.000</td>\n",
              "    </tr>\n",
              "    <tr>\n",
              "      <th>4</th>\n",
              "      <td>17493.875</td>\n",
              "    </tr>\n",
              "    <tr>\n",
              "      <th>...</th>\n",
              "      <td>...</td>\n",
              "    </tr>\n",
              "    <tr>\n",
              "      <th>295</th>\n",
              "      <td>34479.020</td>\n",
              "    </tr>\n",
              "    <tr>\n",
              "      <th>296</th>\n",
              "      <td>76467.125</td>\n",
              "    </tr>\n",
              "    <tr>\n",
              "      <th>297</th>\n",
              "      <td>17363.000</td>\n",
              "    </tr>\n",
              "    <tr>\n",
              "      <th>298</th>\n",
              "      <td>42750.000</td>\n",
              "    </tr>\n",
              "    <tr>\n",
              "      <th>299</th>\n",
              "      <td>11160.000</td>\n",
              "    </tr>\n",
              "  </tbody>\n",
              "</table>\n",
              "<p>300 rows × 1 columns</p>\n",
              "</div>"
            ],
            "text/plain": [
              "     Amount_after_discount\n",
              "0                 8800.000\n",
              "1                17400.000\n",
              "2                42500.000\n",
              "3                48000.000\n",
              "4                17493.875\n",
              "..                     ...\n",
              "295              34479.020\n",
              "296              76467.125\n",
              "297              17363.000\n",
              "298              42750.000\n",
              "299              11160.000\n",
              "\n",
              "[300 rows x 1 columns]"
            ]
          },
          "metadata": {
            "tags": []
          },
          "execution_count": 145
        }
      ]
    },
    {
      "cell_type": "code",
      "metadata": {
        "id": "HW-7YSLt-goF"
      },
      "source": [
        "from sklearn.linear_model import LinearRegression"
      ],
      "execution_count": 146,
      "outputs": []
    },
    {
      "cell_type": "markdown",
      "metadata": {
        "id": "c174OesaG9q9"
      },
      "source": [
        "## **Test data set prepare ** *italicized text*"
      ]
    },
    {
      "cell_type": "code",
      "metadata": {
        "colab": {
          "base_uri": "https://localhost:8080/",
          "height": 195
        },
        "id": "CVk091d3jofu",
        "outputId": "b540806f-6511-4e15-b5bf-bbb7f3bac121"
      },
      "source": [
        "test_data= pd.read_csv('/content/test_datasets.csv.csv')\n",
        "test_data.head()\n"
      ],
      "execution_count": 147,
      "outputs": [
        {
          "output_type": "execute_result",
          "data": {
            "text/html": [
              "<div>\n",
              "<style scoped>\n",
              "    .dataframe tbody tr th:only-of-type {\n",
              "        vertical-align: middle;\n",
              "    }\n",
              "\n",
              "    .dataframe tbody tr th {\n",
              "        vertical-align: top;\n",
              "    }\n",
              "\n",
              "    .dataframe thead th {\n",
              "        text-align: right;\n",
              "    }\n",
              "</style>\n",
              "<table border=\"1\" class=\"dataframe\">\n",
              "  <thead>\n",
              "    <tr style=\"text-align: right;\">\n",
              "      <th></th>\n",
              "      <th>S.No</th>\n",
              "      <th>Mall Name</th>\n",
              "      <th>Venue</th>\n",
              "      <th>Amount</th>\n",
              "      <th>Discount</th>\n",
              "      <th>Start hour</th>\n",
              "      <th>End hour</th>\n",
              "    </tr>\n",
              "  </thead>\n",
              "  <tbody>\n",
              "    <tr>\n",
              "      <th>0</th>\n",
              "      <td>1</td>\n",
              "      <td>A</td>\n",
              "      <td>Bhopal</td>\n",
              "      <td>87391.0</td>\n",
              "      <td>15.0</td>\n",
              "      <td>11:00</td>\n",
              "      <td>22:00</td>\n",
              "    </tr>\n",
              "    <tr>\n",
              "      <th>1</th>\n",
              "      <td>2</td>\n",
              "      <td>B</td>\n",
              "      <td>Gwalior</td>\n",
              "      <td>17900.0</td>\n",
              "      <td>12.0</td>\n",
              "      <td>10:30</td>\n",
              "      <td>23:00</td>\n",
              "    </tr>\n",
              "    <tr>\n",
              "      <th>2</th>\n",
              "      <td>3</td>\n",
              "      <td>C</td>\n",
              "      <td>Kota</td>\n",
              "      <td>45000.0</td>\n",
              "      <td>12.0</td>\n",
              "      <td>09:00</td>\n",
              "      <td>15:30</td>\n",
              "    </tr>\n",
              "    <tr>\n",
              "      <th>3</th>\n",
              "      <td>4</td>\n",
              "      <td>D</td>\n",
              "      <td>Aligarh</td>\n",
              "      <td>12000.0</td>\n",
              "      <td>56.0</td>\n",
              "      <td>12:00</td>\n",
              "      <td>17:00</td>\n",
              "    </tr>\n",
              "    <tr>\n",
              "      <th>4</th>\n",
              "      <td>5</td>\n",
              "      <td>E</td>\n",
              "      <td>Venue</td>\n",
              "      <td>30000.0</td>\n",
              "      <td>1.0</td>\n",
              "      <td>06:00</td>\n",
              "      <td>23:00</td>\n",
              "    </tr>\n",
              "  </tbody>\n",
              "</table>\n",
              "</div>"
            ],
            "text/plain": [
              "   S.No Mall Name    Venue   Amount  Discount Start hour End hour\n",
              "0     1         A   Bhopal  87391.0      15.0      11:00    22:00\n",
              "1     2         B  Gwalior  17900.0      12.0      10:30    23:00\n",
              "2     3         C     Kota  45000.0      12.0      09:00    15:30\n",
              "3     4         D  Aligarh  12000.0      56.0      12:00    17:00\n",
              "4     5         E    Venue  30000.0       1.0      06:00    23:00"
            ]
          },
          "metadata": {
            "tags": []
          },
          "execution_count": 147
        }
      ]
    },
    {
      "cell_type": "code",
      "metadata": {
        "colab": {
          "base_uri": "https://localhost:8080/",
          "height": 498
        },
        "id": "bQ4AjSJl34KR",
        "outputId": "b548069c-0417-4ee8-c8cb-a8e8214f9ec8"
      },
      "source": [
        "test_data['Amount_after_discount'] = test_data['Amount'] - test_data['Discount']/100 * test_data['Amount']\n",
        "\n",
        "test_data1 =test_data.drop([\"S.No\",\"Mall Name\",\"Venue\",\"Discount\"], axis = 1)\n",
        "\n",
        "test_data2 = data1[['Start hour','End hour']]\n",
        "\n",
        "\n",
        "test_data2[\"A_hour\"] = pd.to_datetime(test_data2[\"Start hour\"]).dt.hour\n",
        "test_data2[\"A_min\"] = pd.to_datetime(test_data2[\"Start hour\"]).dt.minute\n",
        "\n",
        "test_data2[\"B_hour\"] = pd.to_datetime(test_data2[\"End hour\"]).dt.hour\n",
        "test_data2[\"B_min\"] = pd.to_datetime(test_data2[\"End hour\"]).dt.minute\n",
        "\n",
        "\n",
        "test_data1['starting_time'] = test_data2['A_hour'] *60 + test_data2['A_min'] \n",
        "test_data1['ending_time'] = test_data2['B_hour'] *60 + test_data2['B_min'] \n",
        "test_data1.head()\n",
        "\n",
        "final_test_dataset = test_data1.drop([\"Start hour\",\"End hour\"], axis = 1)\n",
        "final_test_dataset.head()"
      ],
      "execution_count": 148,
      "outputs": [
        {
          "output_type": "stream",
          "text": [
            "/usr/local/lib/python3.6/dist-packages/ipykernel_launcher.py:8: SettingWithCopyWarning: \n",
            "A value is trying to be set on a copy of a slice from a DataFrame.\n",
            "Try using .loc[row_indexer,col_indexer] = value instead\n",
            "\n",
            "See the caveats in the documentation: https://pandas.pydata.org/pandas-docs/stable/user_guide/indexing.html#returning-a-view-versus-a-copy\n",
            "  \n",
            "/usr/local/lib/python3.6/dist-packages/ipykernel_launcher.py:9: SettingWithCopyWarning: \n",
            "A value is trying to be set on a copy of a slice from a DataFrame.\n",
            "Try using .loc[row_indexer,col_indexer] = value instead\n",
            "\n",
            "See the caveats in the documentation: https://pandas.pydata.org/pandas-docs/stable/user_guide/indexing.html#returning-a-view-versus-a-copy\n",
            "  if __name__ == '__main__':\n",
            "/usr/local/lib/python3.6/dist-packages/ipykernel_launcher.py:11: SettingWithCopyWarning: \n",
            "A value is trying to be set on a copy of a slice from a DataFrame.\n",
            "Try using .loc[row_indexer,col_indexer] = value instead\n",
            "\n",
            "See the caveats in the documentation: https://pandas.pydata.org/pandas-docs/stable/user_guide/indexing.html#returning-a-view-versus-a-copy\n",
            "  # This is added back by InteractiveShellApp.init_path()\n"
          ],
          "name": "stderr"
        },
        {
          "output_type": "execute_result",
          "data": {
            "text/html": [
              "<div>\n",
              "<style scoped>\n",
              "    .dataframe tbody tr th:only-of-type {\n",
              "        vertical-align: middle;\n",
              "    }\n",
              "\n",
              "    .dataframe tbody tr th {\n",
              "        vertical-align: top;\n",
              "    }\n",
              "\n",
              "    .dataframe thead th {\n",
              "        text-align: right;\n",
              "    }\n",
              "</style>\n",
              "<table border=\"1\" class=\"dataframe\">\n",
              "  <thead>\n",
              "    <tr style=\"text-align: right;\">\n",
              "      <th></th>\n",
              "      <th>Amount</th>\n",
              "      <th>Amount_after_discount</th>\n",
              "      <th>starting_time</th>\n",
              "      <th>ending_time</th>\n",
              "    </tr>\n",
              "  </thead>\n",
              "  <tbody>\n",
              "    <tr>\n",
              "      <th>0</th>\n",
              "      <td>87391.0</td>\n",
              "      <td>74282.35</td>\n",
              "      <td>660</td>\n",
              "      <td>1320</td>\n",
              "    </tr>\n",
              "    <tr>\n",
              "      <th>1</th>\n",
              "      <td>17900.0</td>\n",
              "      <td>15752.00</td>\n",
              "      <td>630</td>\n",
              "      <td>1380</td>\n",
              "    </tr>\n",
              "    <tr>\n",
              "      <th>2</th>\n",
              "      <td>45000.0</td>\n",
              "      <td>39600.00</td>\n",
              "      <td>540</td>\n",
              "      <td>930</td>\n",
              "    </tr>\n",
              "    <tr>\n",
              "      <th>3</th>\n",
              "      <td>12000.0</td>\n",
              "      <td>5280.00</td>\n",
              "      <td>720</td>\n",
              "      <td>1020</td>\n",
              "    </tr>\n",
              "    <tr>\n",
              "      <th>4</th>\n",
              "      <td>30000.0</td>\n",
              "      <td>29700.00</td>\n",
              "      <td>360</td>\n",
              "      <td>1380</td>\n",
              "    </tr>\n",
              "  </tbody>\n",
              "</table>\n",
              "</div>"
            ],
            "text/plain": [
              "    Amount  Amount_after_discount  starting_time  ending_time\n",
              "0  87391.0               74282.35            660         1320\n",
              "1  17900.0               15752.00            630         1380\n",
              "2  45000.0               39600.00            540          930\n",
              "3  12000.0                5280.00            720         1020\n",
              "4  30000.0               29700.00            360         1380"
            ]
          },
          "metadata": {
            "tags": []
          },
          "execution_count": 148
        }
      ]
    },
    {
      "cell_type": "code",
      "metadata": {
        "id": "xtgCPHBpFPrN"
      },
      "source": [
        " X_test = pd.DataFrame(data=final_test_dataset, columns=['Amount','starting_time','ending_time'])\n",
        " y_test = pd.DataFrame(data=final_test_dataset, columns=['Amount_after_discount'])"
      ],
      "execution_count": 149,
      "outputs": []
    },
    {
      "cell_type": "code",
      "metadata": {
        "colab": {
          "base_uri": "https://localhost:8080/",
          "height": 906
        },
        "id": "xrwsxWwCPiZ7",
        "outputId": "980f8cc4-f33f-4361-a13a-71f136f1c565"
      },
      "source": [
        "X_test"
      ],
      "execution_count": 150,
      "outputs": [
        {
          "output_type": "execute_result",
          "data": {
            "text/html": [
              "<div>\n",
              "<style scoped>\n",
              "    .dataframe tbody tr th:only-of-type {\n",
              "        vertical-align: middle;\n",
              "    }\n",
              "\n",
              "    .dataframe tbody tr th {\n",
              "        vertical-align: top;\n",
              "    }\n",
              "\n",
              "    .dataframe thead th {\n",
              "        text-align: right;\n",
              "    }\n",
              "</style>\n",
              "<table border=\"1\" class=\"dataframe\">\n",
              "  <thead>\n",
              "    <tr style=\"text-align: right;\">\n",
              "      <th></th>\n",
              "      <th>Amount</th>\n",
              "      <th>starting_time</th>\n",
              "      <th>ending_time</th>\n",
              "    </tr>\n",
              "  </thead>\n",
              "  <tbody>\n",
              "    <tr>\n",
              "      <th>0</th>\n",
              "      <td>87391.0</td>\n",
              "      <td>660</td>\n",
              "      <td>1320</td>\n",
              "    </tr>\n",
              "    <tr>\n",
              "      <th>1</th>\n",
              "      <td>17900.0</td>\n",
              "      <td>630</td>\n",
              "      <td>1380</td>\n",
              "    </tr>\n",
              "    <tr>\n",
              "      <th>2</th>\n",
              "      <td>45000.0</td>\n",
              "      <td>540</td>\n",
              "      <td>930</td>\n",
              "    </tr>\n",
              "    <tr>\n",
              "      <th>3</th>\n",
              "      <td>12000.0</td>\n",
              "      <td>720</td>\n",
              "      <td>1020</td>\n",
              "    </tr>\n",
              "    <tr>\n",
              "      <th>4</th>\n",
              "      <td>30000.0</td>\n",
              "      <td>360</td>\n",
              "      <td>1380</td>\n",
              "    </tr>\n",
              "    <tr>\n",
              "      <th>5</th>\n",
              "      <td>25000.0</td>\n",
              "      <td>1140</td>\n",
              "      <td>1380</td>\n",
              "    </tr>\n",
              "    <tr>\n",
              "      <th>6</th>\n",
              "      <td>40000.0</td>\n",
              "      <td>600</td>\n",
              "      <td>1140</td>\n",
              "    </tr>\n",
              "    <tr>\n",
              "      <th>7</th>\n",
              "      <td>10000.0</td>\n",
              "      <td>690</td>\n",
              "      <td>1380</td>\n",
              "    </tr>\n",
              "    <tr>\n",
              "      <th>8</th>\n",
              "      <td>20000.0</td>\n",
              "      <td>960</td>\n",
              "      <td>1380</td>\n",
              "    </tr>\n",
              "    <tr>\n",
              "      <th>9</th>\n",
              "      <td>50000.0</td>\n",
              "      <td>660</td>\n",
              "      <td>900</td>\n",
              "    </tr>\n",
              "    <tr>\n",
              "      <th>10</th>\n",
              "      <td>60000.0</td>\n",
              "      <td>630</td>\n",
              "      <td>934</td>\n",
              "    </tr>\n",
              "    <tr>\n",
              "      <th>11</th>\n",
              "      <td>19993.0</td>\n",
              "      <td>540</td>\n",
              "      <td>930</td>\n",
              "    </tr>\n",
              "    <tr>\n",
              "      <th>12</th>\n",
              "      <td>48562.0</td>\n",
              "      <td>720</td>\n",
              "      <td>1065</td>\n",
              "    </tr>\n",
              "    <tr>\n",
              "      <th>13</th>\n",
              "      <td>87391.0</td>\n",
              "      <td>360</td>\n",
              "      <td>1380</td>\n",
              "    </tr>\n",
              "    <tr>\n",
              "      <th>14</th>\n",
              "      <td>17900.0</td>\n",
              "      <td>1140</td>\n",
              "      <td>1380</td>\n",
              "    </tr>\n",
              "    <tr>\n",
              "      <th>15</th>\n",
              "      <td>45000.0</td>\n",
              "      <td>600</td>\n",
              "      <td>1140</td>\n",
              "    </tr>\n",
              "    <tr>\n",
              "      <th>16</th>\n",
              "      <td>12000.0</td>\n",
              "      <td>690</td>\n",
              "      <td>1380</td>\n",
              "    </tr>\n",
              "    <tr>\n",
              "      <th>17</th>\n",
              "      <td>30000.0</td>\n",
              "      <td>960</td>\n",
              "      <td>1110</td>\n",
              "    </tr>\n",
              "    <tr>\n",
              "      <th>18</th>\n",
              "      <td>25000.0</td>\n",
              "      <td>720</td>\n",
              "      <td>1380</td>\n",
              "    </tr>\n",
              "    <tr>\n",
              "      <th>19</th>\n",
              "      <td>40000.0</td>\n",
              "      <td>360</td>\n",
              "      <td>1140</td>\n",
              "    </tr>\n",
              "    <tr>\n",
              "      <th>20</th>\n",
              "      <td>10000.0</td>\n",
              "      <td>1140</td>\n",
              "      <td>1380</td>\n",
              "    </tr>\n",
              "    <tr>\n",
              "      <th>21</th>\n",
              "      <td>20000.0</td>\n",
              "      <td>600</td>\n",
              "      <td>1110</td>\n",
              "    </tr>\n",
              "    <tr>\n",
              "      <th>22</th>\n",
              "      <td>50000.0</td>\n",
              "      <td>690</td>\n",
              "      <td>900</td>\n",
              "    </tr>\n",
              "    <tr>\n",
              "      <th>23</th>\n",
              "      <td>60000.0</td>\n",
              "      <td>960</td>\n",
              "      <td>1350</td>\n",
              "    </tr>\n",
              "    <tr>\n",
              "      <th>24</th>\n",
              "      <td>19993.0</td>\n",
              "      <td>660</td>\n",
              "      <td>930</td>\n",
              "    </tr>\n",
              "    <tr>\n",
              "      <th>25</th>\n",
              "      <td>48562.0</td>\n",
              "      <td>630</td>\n",
              "      <td>1020</td>\n",
              "    </tr>\n",
              "    <tr>\n",
              "      <th>26</th>\n",
              "      <td>87391.0</td>\n",
              "      <td>540</td>\n",
              "      <td>1380</td>\n",
              "    </tr>\n",
              "    <tr>\n",
              "      <th>27</th>\n",
              "      <td>17900.0</td>\n",
              "      <td>720</td>\n",
              "      <td>1380</td>\n",
              "    </tr>\n",
              "    <tr>\n",
              "      <th>28</th>\n",
              "      <td>45000.0</td>\n",
              "      <td>360</td>\n",
              "      <td>1140</td>\n",
              "    </tr>\n",
              "  </tbody>\n",
              "</table>\n",
              "</div>"
            ],
            "text/plain": [
              "     Amount  starting_time  ending_time\n",
              "0   87391.0            660         1320\n",
              "1   17900.0            630         1380\n",
              "2   45000.0            540          930\n",
              "3   12000.0            720         1020\n",
              "4   30000.0            360         1380\n",
              "5   25000.0           1140         1380\n",
              "6   40000.0            600         1140\n",
              "7   10000.0            690         1380\n",
              "8   20000.0            960         1380\n",
              "9   50000.0            660          900\n",
              "10  60000.0            630          934\n",
              "11  19993.0            540          930\n",
              "12  48562.0            720         1065\n",
              "13  87391.0            360         1380\n",
              "14  17900.0           1140         1380\n",
              "15  45000.0            600         1140\n",
              "16  12000.0            690         1380\n",
              "17  30000.0            960         1110\n",
              "18  25000.0            720         1380\n",
              "19  40000.0            360         1140\n",
              "20  10000.0           1140         1380\n",
              "21  20000.0            600         1110\n",
              "22  50000.0            690          900\n",
              "23  60000.0            960         1350\n",
              "24  19993.0            660          930\n",
              "25  48562.0            630         1020\n",
              "26  87391.0            540         1380\n",
              "27  17900.0            720         1380\n",
              "28  45000.0            360         1140"
            ]
          },
          "metadata": {
            "tags": []
          },
          "execution_count": 150
        }
      ]
    },
    {
      "cell_type": "code",
      "metadata": {
        "colab": {
          "base_uri": "https://localhost:8080/",
          "height": 906
        },
        "id": "t09gjLJ0TUw0",
        "outputId": "2048d8f5-87d9-4c3f-ac16-1ad548314821"
      },
      "source": [
        "y_test"
      ],
      "execution_count": 151,
      "outputs": [
        {
          "output_type": "execute_result",
          "data": {
            "text/html": [
              "<div>\n",
              "<style scoped>\n",
              "    .dataframe tbody tr th:only-of-type {\n",
              "        vertical-align: middle;\n",
              "    }\n",
              "\n",
              "    .dataframe tbody tr th {\n",
              "        vertical-align: top;\n",
              "    }\n",
              "\n",
              "    .dataframe thead th {\n",
              "        text-align: right;\n",
              "    }\n",
              "</style>\n",
              "<table border=\"1\" class=\"dataframe\">\n",
              "  <thead>\n",
              "    <tr style=\"text-align: right;\">\n",
              "      <th></th>\n",
              "      <th>Amount_after_discount</th>\n",
              "    </tr>\n",
              "  </thead>\n",
              "  <tbody>\n",
              "    <tr>\n",
              "      <th>0</th>\n",
              "      <td>74282.350</td>\n",
              "    </tr>\n",
              "    <tr>\n",
              "      <th>1</th>\n",
              "      <td>15752.000</td>\n",
              "    </tr>\n",
              "    <tr>\n",
              "      <th>2</th>\n",
              "      <td>39600.000</td>\n",
              "    </tr>\n",
              "    <tr>\n",
              "      <th>3</th>\n",
              "      <td>5280.000</td>\n",
              "    </tr>\n",
              "    <tr>\n",
              "      <th>4</th>\n",
              "      <td>29700.000</td>\n",
              "    </tr>\n",
              "    <tr>\n",
              "      <th>5</th>\n",
              "      <td>17000.000</td>\n",
              "    </tr>\n",
              "    <tr>\n",
              "      <th>6</th>\n",
              "      <td>35200.000</td>\n",
              "    </tr>\n",
              "    <tr>\n",
              "      <th>7</th>\n",
              "      <td>8800.000</td>\n",
              "    </tr>\n",
              "    <tr>\n",
              "      <th>8</th>\n",
              "      <td>11400.000</td>\n",
              "    </tr>\n",
              "    <tr>\n",
              "      <th>9</th>\n",
              "      <td>44000.000</td>\n",
              "    </tr>\n",
              "    <tr>\n",
              "      <th>10</th>\n",
              "      <td>52200.000</td>\n",
              "    </tr>\n",
              "    <tr>\n",
              "      <th>11</th>\n",
              "      <td>16994.050</td>\n",
              "    </tr>\n",
              "    <tr>\n",
              "      <th>12</th>\n",
              "      <td>38849.600</td>\n",
              "    </tr>\n",
              "    <tr>\n",
              "      <th>13</th>\n",
              "      <td>76467.125</td>\n",
              "    </tr>\n",
              "    <tr>\n",
              "      <th>14</th>\n",
              "      <td>15036.000</td>\n",
              "    </tr>\n",
              "    <tr>\n",
              "      <th>15</th>\n",
              "      <td>31950.000</td>\n",
              "    </tr>\n",
              "    <tr>\n",
              "      <th>16</th>\n",
              "      <td>10500.000</td>\n",
              "    </tr>\n",
              "    <tr>\n",
              "      <th>17</th>\n",
              "      <td>29100.000</td>\n",
              "    </tr>\n",
              "    <tr>\n",
              "      <th>18</th>\n",
              "      <td>23750.000</td>\n",
              "    </tr>\n",
              "    <tr>\n",
              "      <th>19</th>\n",
              "      <td>37200.000</td>\n",
              "    </tr>\n",
              "    <tr>\n",
              "      <th>20</th>\n",
              "      <td>8750.000</td>\n",
              "    </tr>\n",
              "    <tr>\n",
              "      <th>21</th>\n",
              "      <td>17200.000</td>\n",
              "    </tr>\n",
              "    <tr>\n",
              "      <th>22</th>\n",
              "      <td>28500.000</td>\n",
              "    </tr>\n",
              "    <tr>\n",
              "      <th>23</th>\n",
              "      <td>51000.000</td>\n",
              "    </tr>\n",
              "    <tr>\n",
              "      <th>24</th>\n",
              "      <td>13195.380</td>\n",
              "    </tr>\n",
              "    <tr>\n",
              "      <th>25</th>\n",
              "      <td>37392.740</td>\n",
              "    </tr>\n",
              "    <tr>\n",
              "      <th>26</th>\n",
              "      <td>83895.360</td>\n",
              "    </tr>\n",
              "    <tr>\n",
              "      <th>27</th>\n",
              "      <td>17363.000</td>\n",
              "    </tr>\n",
              "    <tr>\n",
              "      <th>28</th>\n",
              "      <td>39600.000</td>\n",
              "    </tr>\n",
              "  </tbody>\n",
              "</table>\n",
              "</div>"
            ],
            "text/plain": [
              "    Amount_after_discount\n",
              "0               74282.350\n",
              "1               15752.000\n",
              "2               39600.000\n",
              "3                5280.000\n",
              "4               29700.000\n",
              "5               17000.000\n",
              "6               35200.000\n",
              "7                8800.000\n",
              "8               11400.000\n",
              "9               44000.000\n",
              "10              52200.000\n",
              "11              16994.050\n",
              "12              38849.600\n",
              "13              76467.125\n",
              "14              15036.000\n",
              "15              31950.000\n",
              "16              10500.000\n",
              "17              29100.000\n",
              "18              23750.000\n",
              "19              37200.000\n",
              "20               8750.000\n",
              "21              17200.000\n",
              "22              28500.000\n",
              "23              51000.000\n",
              "24              13195.380\n",
              "25              37392.740\n",
              "26              83895.360\n",
              "27              17363.000\n",
              "28              39600.000"
            ]
          },
          "metadata": {
            "tags": []
          },
          "execution_count": 151
        }
      ]
    },
    {
      "cell_type": "code",
      "metadata": {
        "colab": {
          "base_uri": "https://localhost:8080/"
        },
        "id": "lem4C66xTXOU",
        "outputId": "29f05847-2242-49d1-e52a-534ff974e16d"
      },
      "source": [
        "regression = LinearRegression()\n",
        "regression.fit(X_train , y_train)\n"
      ],
      "execution_count": 152,
      "outputs": [
        {
          "output_type": "execute_result",
          "data": {
            "text/plain": [
              "LinearRegression(copy_X=True, fit_intercept=True, n_jobs=None, normalize=False)"
            ]
          },
          "metadata": {
            "tags": []
          },
          "execution_count": 152
        }
      ]
    },
    {
      "cell_type": "code",
      "metadata": {
        "id": "1sTVd-g4T54V"
      },
      "source": [
        "y_pred = regression.predict(X_test)\n"
      ],
      "execution_count": 154,
      "outputs": []
    },
    {
      "cell_type": "code",
      "metadata": {
        "id": "_xsYxRpPUIR8"
      },
      "source": [
        "from sklearn.metrics  import r2_score\n",
        "score = r2_score(y_test,y_pred)"
      ],
      "execution_count": 156,
      "outputs": []
    },
    {
      "cell_type": "code",
      "metadata": {
        "colab": {
          "base_uri": "https://localhost:8080/"
        },
        "id": "ciEVh6llUtfo",
        "outputId": "60ea1235-3833-45b9-cab9-3fc6c4bc04a1"
      },
      "source": [
        "score"
      ],
      "execution_count": 157,
      "outputs": [
        {
          "output_type": "execute_result",
          "data": {
            "text/plain": [
              "0.9522629011172832"
            ]
          },
          "metadata": {
            "tags": []
          },
          "execution_count": 157
        }
      ]
    },
    {
      "cell_type": "code",
      "metadata": {
        "colab": {
          "base_uri": "https://localhost:8080/"
        },
        "id": "D9J1FRm-byfZ",
        "outputId": "8d50ddb7-6016-4fc1-d2d3-c3b01d5e5db6"
      },
      "source": [
        "regression.score(X_train,y_train)"
      ],
      "execution_count": 162,
      "outputs": [
        {
          "output_type": "execute_result",
          "data": {
            "text/plain": [
              "0.9118863039235922"
            ]
          },
          "metadata": {
            "tags": []
          },
          "execution_count": 162
        }
      ]
    },
    {
      "cell_type": "code",
      "metadata": {
        "colab": {
          "base_uri": "https://localhost:8080/"
        },
        "id": "DJMlWTnZcazd",
        "outputId": "1bcb573e-5e30-4441-d32f-b7608e47085d"
      },
      "source": [
        "regression.score(X_test,y_test)"
      ],
      "execution_count": 163,
      "outputs": [
        {
          "output_type": "execute_result",
          "data": {
            "text/plain": [
              "0.9522629011172831"
            ]
          },
          "metadata": {
            "tags": []
          },
          "execution_count": 163
        }
      ]
    },
    {
      "cell_type": "code",
      "metadata": {
        "colab": {
          "base_uri": "https://localhost:8080/"
        },
        "id": "568Jlv1VVD0D",
        "outputId": "4a8b5ec6-ac1f-4f72-a38d-aa488786c2cb"
      },
      "source": [
        "regression.intercept_\n"
      ],
      "execution_count": 158,
      "outputs": [
        {
          "output_type": "execute_result",
          "data": {
            "text/plain": [
              "array([1425.93750945])"
            ]
          },
          "metadata": {
            "tags": []
          },
          "execution_count": 158
        }
      ]
    },
    {
      "cell_type": "code",
      "metadata": {
        "colab": {
          "base_uri": "https://localhost:8080/"
        },
        "id": "rky1MCFlVQcf",
        "outputId": "d0ee61ce-4adf-4c7b-af4a-64738a3b7c6b"
      },
      "source": [
        "\n",
        "regression.coef_"
      ],
      "execution_count": 159,
      "outputs": [
        {
          "output_type": "execute_result",
          "data": {
            "text/plain": [
              "array([[ 0.81749933, -0.18603521, -0.98242012]])"
            ]
          },
          "metadata": {
            "tags": []
          },
          "execution_count": 159
        }
      ]
    },
    {
      "cell_type": "code",
      "metadata": {
        "colab": {
          "base_uri": "https://localhost:8080/",
          "height": 285
        },
        "id": "tYMlK5bac_D8",
        "outputId": "c591a477-672f-49d8-ca82-885ee83c16b0"
      },
      "source": [
        "plt.scatter(y_test,y_pred,alpha=0.5)\n",
        "plt.xlabel('y_test')\n",
        "plt.ylabel('y_pred')\n",
        "plt.show()"
      ],
      "execution_count": 166,
      "outputs": [
        {
          "output_type": "display_data",
          "data": {
            "image/png": "[encoded data removed]",
            "text/plain": [
              "<Figure size 432x288 with 1 Axes>"
            ]
          },
          "metadata": {
            "tags": []
          }
        }
      ]
    },
    {
      "cell_type": "code",
      "metadata": {
        "colab": {
          "base_uri": "https://localhost:8080/"
        },
        "id": "aeqg_WA0h4lb",
        "outputId": "e092e733-0548-49b0-b194-c666bb4141d0"
      },
      "source": [
        " \n",
        "# regression.predict\n",
        "y_pred"
      ],
      "execution_count": 168,
      "outputs": [
        {
          "output_type": "execute_result",
          "data": {
            "text/plain": [
              "array([68568.97075833, 13117.71305   , 35702.57991429,  9976.9       ,\n",
              "       19906.6742    , 20384.16245   , 33270.99224   ,  6569.7       ,\n",
              "       12784.110935  , 37764.055     , 51621.6958    , 17966.0117    ,\n",
              "       39375.62263333, 71897.34625667, 14604.20949214, 35379.2124    ,\n",
              "        9507.56      , 24059.0644    , 20155.25903333, 33027.71248   ,\n",
              "        8016.02857143, 18220.4436    , 38653.47633333, 49789.831     ,\n",
              "       18985.7853    , 38634.3088    , 71897.34625667, 15438.76093333,\n",
              "       34403.0526    ])"
            ]
          },
          "metadata": {
            "tags": []
          },
          "execution_count": 168
        }
      ]
    },
    {
      "cell_type": "code",
      "metadata": {
        "colab": {
          "base_uri": "https://localhost:8080/",
          "height": 906
        },
        "id": "ljuM8lxboThj",
        "outputId": "02cd0638-5660-410b-a0e0-4e4426945dd3"
      },
      "source": [
        "pd.DataFrame(np.c_[X_test,y_test , y_pred ] , columns =['amount','s_hour','e_hour ','y_test' , 'y_pred' ])"
      ],
      "execution_count": 172,
      "outputs": [
        {
          "output_type": "execute_result",
          "data": {
            "text/html": [
              "<div>\n",
              "<style scoped>\n",
              "    .dataframe tbody tr th:only-of-type {\n",
              "        vertical-align: middle;\n",
              "    }\n",
              "\n",
              "    .dataframe tbody tr th {\n",
              "        vertical-align: top;\n",
              "    }\n",
              "\n",
              "    .dataframe thead th {\n",
              "        text-align: right;\n",
              "    }\n",
              "</style>\n",
              "<table border=\"1\" class=\"dataframe\">\n",
              "  <thead>\n",
              "    <tr style=\"text-align: right;\">\n",
              "      <th></th>\n",
              "      <th>amount</th>\n",
              "      <th>s_hour</th>\n",
              "      <th>e_hour</th>\n",
              "      <th>y_test</th>\n",
              "      <th>y_pred</th>\n",
              "    </tr>\n",
              "  </thead>\n",
              "  <tbody>\n",
              "    <tr>\n",
              "      <th>0</th>\n",
              "      <td>87391.0</td>\n",
              "      <td>660.0</td>\n",
              "      <td>1320.0</td>\n",
              "      <td>74282.350</td>\n",
              "      <td>68568.970758</td>\n",
              "    </tr>\n",
              "    <tr>\n",
              "      <th>1</th>\n",
              "      <td>17900.0</td>\n",
              "      <td>630.0</td>\n",
              "      <td>1380.0</td>\n",
              "      <td>15752.000</td>\n",
              "      <td>13117.713050</td>\n",
              "    </tr>\n",
              "    <tr>\n",
              "      <th>2</th>\n",
              "      <td>45000.0</td>\n",
              "      <td>540.0</td>\n",
              "      <td>930.0</td>\n",
              "      <td>39600.000</td>\n",
              "      <td>35702.579914</td>\n",
              "    </tr>\n",
              "    <tr>\n",
              "      <th>3</th>\n",
              "      <td>12000.0</td>\n",
              "      <td>720.0</td>\n",
              "      <td>1020.0</td>\n",
              "      <td>5280.000</td>\n",
              "      <td>9976.900000</td>\n",
              "    </tr>\n",
              "    <tr>\n",
              "      <th>4</th>\n",
              "      <td>30000.0</td>\n",
              "      <td>360.0</td>\n",
              "      <td>1380.0</td>\n",
              "      <td>29700.000</td>\n",
              "      <td>19906.674200</td>\n",
              "    </tr>\n",
              "    <tr>\n",
              "      <th>5</th>\n",
              "      <td>25000.0</td>\n",
              "      <td>1140.0</td>\n",
              "      <td>1380.0</td>\n",
              "      <td>17000.000</td>\n",
              "      <td>20384.162450</td>\n",
              "    </tr>\n",
              "    <tr>\n",
              "      <th>6</th>\n",
              "      <td>40000.0</td>\n",
              "      <td>600.0</td>\n",
              "      <td>1140.0</td>\n",
              "      <td>35200.000</td>\n",
              "      <td>33270.992240</td>\n",
              "    </tr>\n",
              "    <tr>\n",
              "      <th>7</th>\n",
              "      <td>10000.0</td>\n",
              "      <td>690.0</td>\n",
              "      <td>1380.0</td>\n",
              "      <td>8800.000</td>\n",
              "      <td>6569.700000</td>\n",
              "    </tr>\n",
              "    <tr>\n",
              "      <th>8</th>\n",
              "      <td>20000.0</td>\n",
              "      <td>960.0</td>\n",
              "      <td>1380.0</td>\n",
              "      <td>11400.000</td>\n",
              "      <td>12784.110935</td>\n",
              "    </tr>\n",
              "    <tr>\n",
              "      <th>9</th>\n",
              "      <td>50000.0</td>\n",
              "      <td>660.0</td>\n",
              "      <td>900.0</td>\n",
              "      <td>44000.000</td>\n",
              "      <td>37764.055000</td>\n",
              "    </tr>\n",
              "    <tr>\n",
              "      <th>10</th>\n",
              "      <td>60000.0</td>\n",
              "      <td>630.0</td>\n",
              "      <td>934.0</td>\n",
              "      <td>52200.000</td>\n",
              "      <td>51621.695800</td>\n",
              "    </tr>\n",
              "    <tr>\n",
              "      <th>11</th>\n",
              "      <td>19993.0</td>\n",
              "      <td>540.0</td>\n",
              "      <td>930.0</td>\n",
              "      <td>16994.050</td>\n",
              "      <td>17966.011700</td>\n",
              "    </tr>\n",
              "    <tr>\n",
              "      <th>12</th>\n",
              "      <td>48562.0</td>\n",
              "      <td>720.0</td>\n",
              "      <td>1065.0</td>\n",
              "      <td>38849.600</td>\n",
              "      <td>39375.622633</td>\n",
              "    </tr>\n",
              "    <tr>\n",
              "      <th>13</th>\n",
              "      <td>87391.0</td>\n",
              "      <td>360.0</td>\n",
              "      <td>1380.0</td>\n",
              "      <td>76467.125</td>\n",
              "      <td>71897.346257</td>\n",
              "    </tr>\n",
              "    <tr>\n",
              "      <th>14</th>\n",
              "      <td>17900.0</td>\n",
              "      <td>1140.0</td>\n",
              "      <td>1380.0</td>\n",
              "      <td>15036.000</td>\n",
              "      <td>14604.209492</td>\n",
              "    </tr>\n",
              "    <tr>\n",
              "      <th>15</th>\n",
              "      <td>45000.0</td>\n",
              "      <td>600.0</td>\n",
              "      <td>1140.0</td>\n",
              "      <td>31950.000</td>\n",
              "      <td>35379.212400</td>\n",
              "    </tr>\n",
              "    <tr>\n",
              "      <th>16</th>\n",
              "      <td>12000.0</td>\n",
              "      <td>690.0</td>\n",
              "      <td>1380.0</td>\n",
              "      <td>10500.000</td>\n",
              "      <td>9507.560000</td>\n",
              "    </tr>\n",
              "    <tr>\n",
              "      <th>17</th>\n",
              "      <td>30000.0</td>\n",
              "      <td>960.0</td>\n",
              "      <td>1110.0</td>\n",
              "      <td>29100.000</td>\n",
              "      <td>24059.064400</td>\n",
              "    </tr>\n",
              "    <tr>\n",
              "      <th>18</th>\n",
              "      <td>25000.0</td>\n",
              "      <td>720.0</td>\n",
              "      <td>1380.0</td>\n",
              "      <td>23750.000</td>\n",
              "      <td>20155.259033</td>\n",
              "    </tr>\n",
              "    <tr>\n",
              "      <th>19</th>\n",
              "      <td>40000.0</td>\n",
              "      <td>360.0</td>\n",
              "      <td>1140.0</td>\n",
              "      <td>37200.000</td>\n",
              "      <td>33027.712480</td>\n",
              "    </tr>\n",
              "    <tr>\n",
              "      <th>20</th>\n",
              "      <td>10000.0</td>\n",
              "      <td>1140.0</td>\n",
              "      <td>1380.0</td>\n",
              "      <td>8750.000</td>\n",
              "      <td>8016.028571</td>\n",
              "    </tr>\n",
              "    <tr>\n",
              "      <th>21</th>\n",
              "      <td>20000.0</td>\n",
              "      <td>600.0</td>\n",
              "      <td>1110.0</td>\n",
              "      <td>17200.000</td>\n",
              "      <td>18220.443600</td>\n",
              "    </tr>\n",
              "    <tr>\n",
              "      <th>22</th>\n",
              "      <td>50000.0</td>\n",
              "      <td>690.0</td>\n",
              "      <td>900.0</td>\n",
              "      <td>28500.000</td>\n",
              "      <td>38653.476333</td>\n",
              "    </tr>\n",
              "    <tr>\n",
              "      <th>23</th>\n",
              "      <td>60000.0</td>\n",
              "      <td>960.0</td>\n",
              "      <td>1350.0</td>\n",
              "      <td>51000.000</td>\n",
              "      <td>49789.831000</td>\n",
              "    </tr>\n",
              "    <tr>\n",
              "      <th>24</th>\n",
              "      <td>19993.0</td>\n",
              "      <td>660.0</td>\n",
              "      <td>930.0</td>\n",
              "      <td>13195.380</td>\n",
              "      <td>18985.785300</td>\n",
              "    </tr>\n",
              "    <tr>\n",
              "      <th>25</th>\n",
              "      <td>48562.0</td>\n",
              "      <td>630.0</td>\n",
              "      <td>1020.0</td>\n",
              "      <td>37392.740</td>\n",
              "      <td>38634.308800</td>\n",
              "    </tr>\n",
              "    <tr>\n",
              "      <th>26</th>\n",
              "      <td>87391.0</td>\n",
              "      <td>540.0</td>\n",
              "      <td>1380.0</td>\n",
              "      <td>83895.360</td>\n",
              "      <td>71897.346257</td>\n",
              "    </tr>\n",
              "    <tr>\n",
              "      <th>27</th>\n",
              "      <td>17900.0</td>\n",
              "      <td>720.0</td>\n",
              "      <td>1380.0</td>\n",
              "      <td>17363.000</td>\n",
              "      <td>15438.760933</td>\n",
              "    </tr>\n",
              "    <tr>\n",
              "      <th>28</th>\n",
              "      <td>45000.0</td>\n",
              "      <td>360.0</td>\n",
              "      <td>1140.0</td>\n",
              "      <td>39600.000</td>\n",
              "      <td>34403.052600</td>\n",
              "    </tr>\n",
              "  </tbody>\n",
              "</table>\n",
              "</div>"
            ],
            "text/plain": [
              "     amount   s_hour  e_hour      y_test        y_pred\n",
              "0   87391.0    660.0   1320.0  74282.350  68568.970758\n",
              "1   17900.0    630.0   1380.0  15752.000  13117.713050\n",
              "2   45000.0    540.0    930.0  39600.000  35702.579914\n",
              "3   12000.0    720.0   1020.0   5280.000   9976.900000\n",
              "4   30000.0    360.0   1380.0  29700.000  19906.674200\n",
              "5   25000.0   1140.0   1380.0  17000.000  20384.162450\n",
              "6   40000.0    600.0   1140.0  35200.000  33270.992240\n",
              "7   10000.0    690.0   1380.0   8800.000   6569.700000\n",
              "8   20000.0    960.0   1380.0  11400.000  12784.110935\n",
              "9   50000.0    660.0    900.0  44000.000  37764.055000\n",
              "10  60000.0    630.0    934.0  52200.000  51621.695800\n",
              "11  19993.0    540.0    930.0  16994.050  17966.011700\n",
              "12  48562.0    720.0   1065.0  38849.600  39375.622633\n",
              "13  87391.0    360.0   1380.0  76467.125  71897.346257\n",
              "14  17900.0   1140.0   1380.0  15036.000  14604.209492\n",
              "15  45000.0    600.0   1140.0  31950.000  35379.212400\n",
              "16  12000.0    690.0   1380.0  10500.000   9507.560000\n",
              "17  30000.0    960.0   1110.0  29100.000  24059.064400\n",
              "18  25000.0    720.0   1380.0  23750.000  20155.259033\n",
              "19  40000.0    360.0   1140.0  37200.000  33027.712480\n",
              "20  10000.0   1140.0   1380.0   8750.000   8016.028571\n",
              "21  20000.0    600.0   1110.0  17200.000  18220.443600\n",
              "22  50000.0    690.0    900.0  28500.000  38653.476333\n",
              "23  60000.0    960.0   1350.0  51000.000  49789.831000\n",
              "24  19993.0    660.0    930.0  13195.380  18985.785300\n",
              "25  48562.0    630.0   1020.0  37392.740  38634.308800\n",
              "26  87391.0    540.0   1380.0  83895.360  71897.346257\n",
              "27  17900.0    720.0   1380.0  17363.000  15438.760933\n",
              "28  45000.0    360.0   1140.0  39600.000  34403.052600"
            ]
          },
          "metadata": {
            "tags": []
          },
          "execution_count": 172
        }
      ]
    },
    {
      "cell_type": "code",
      "metadata": {
        "colab": {
          "base_uri": "https://localhost:8080/"
        },
        "id": "vQpsY5SPonVu",
        "outputId": "77b2ec00-adde-433a-ff9f-99421c96396c"
      },
      "source": [
        " regression.score(X_test,y_test)"
      ],
      "execution_count": 173,
      "outputs": [
        {
          "output_type": "execute_result",
          "data": {
            "text/plain": [
              "0.9522629011172831"
            ]
          },
          "metadata": {
            "tags": []
          },
          "execution_count": 173
        }
      ]
    },
    {
      "cell_type": "markdown",
      "metadata": {
        "id": "s4aD3Q6dtrbE"
      },
      "source": [
        "End of the project ,Prediction gives 95% accurate result with given dataset . THANK YOU"
      ]
    }
  ]
}